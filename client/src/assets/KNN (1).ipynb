{
  "nbformat": 4,
  "nbformat_minor": 0,
  "metadata": {
    "colab": {
      "provenance": []
    },
    "kernelspec": {
      "name": "python3",
      "display_name": "Python 3"
    },
    "language_info": {
      "name": "python"
    }
  },
  "cells": [
    {
      "cell_type": "markdown",
      "source": [
        "# KNN WITHOUT SKLERAN"
      ],
      "metadata": {
        "id": "bOyVYfyJolCw"
      }
    },
    {
      "cell_type": "code",
      "execution_count": 16,
      "metadata": {
        "id": "2uYR1_j76bCj"
      },
      "outputs": [],
      "source": [
        "import numpy as np\n",
        "import pandas as pd\n",
        "from math import sqrt\n",
        "from sklearn.model_selection import train_test_split\n",
        "from sklearn.neighbors import KNeighborsClassifier\n",
        "import matplotlib.pyplot as plt \n",
        "import seaborn as sns"
      ]
    },
    {
      "cell_type": "markdown",
      "source": [
        "# DATA"
      ],
      "metadata": {
        "id": "2IMY4IvQSuia"
      }
    },
    {
      "cell_type": "code",
      "source": [
        "x = [[77,69,77,74],[92,67,68,89],[82,74,75,80],[94,68,73,69],[72,85,59,60]\n",
        "     ,[93,78,89,65],[97,68,71,70],[69,78,71,74],[96,69,58,83],[94,88,86,70]]\n",
        "y = ['B','B','A','B','B','A','B','B','B','B']\n"
      ],
      "metadata": {
        "id": "KOlYlhp1-UB4"
      },
      "execution_count": 18,
      "outputs": []
    },
    {
      "cell_type": "markdown",
      "source": [
        "# Find which variable is the most in an array of variables"
      ],
      "metadata": {
        "id": "4NKBOcnbSBca"
      }
    },
    {
      "cell_type": "code",
      "source": [
        "\n",
        "def most_found(array):\n",
        "    list_of_words = []\n",
        "    for i in range(len(array)):\n",
        "        if array[i] not in list_of_words:\n",
        "            list_of_words.append(array[i])\n",
        "            \n",
        "    most_counted = ''\n",
        "    n_of_most_counted = None\n",
        "    \n",
        "    for i in range(len(list_of_words)):\n",
        "        counted = array.count(list_of_words[i])\n",
        "        if n_of_most_counted == None:\n",
        "            most_counted = list_of_words[i]\n",
        "            n_of_most_counted = counted\n",
        "        elif n_of_most_counted < counted:\n",
        "            most_counted = list_of_words[i]\n",
        "            n_of_most_counted = counted\n",
        "        elif n_of_most_counted == counted:\n",
        "            most_counted = None\n",
        "            \n",
        "    return most_counted"
      ],
      "metadata": {
        "id": "lDPz7FOWGxh2"
      },
      "execution_count": 19,
      "outputs": []
    },
    {
      "cell_type": "markdown",
      "source": [
        "# find nearest neighbors"
      ],
      "metadata": {
        "id": "N9OzywsOSZHU"
      }
    },
    {
      "cell_type": "code",
      "source": [
        "def find_neighbors(point, data, labels, k=3):\n",
        "    n_of_dimensions = len(point)\n",
        "    neighbors = []\n",
        "    neighbor_labels = []\n",
        "    for i in range(0, k):\n",
        "        nearest_neighbor_id = None\n",
        "        smallest_distance = None\n",
        "        \n",
        "        for i in range(0, len(data)):\n",
        "            eucledian_dist = 0\n",
        "            for d in range(0, n_of_dimensions):\n",
        "                dist = abs(point[d] - data[i][d])\n",
        "                eucledian_dist += dist\n",
        "                \n",
        "            eucledian_dist = np.sqrt(eucledian_dist)\n",
        "            \n",
        "            if smallest_distance == None:\n",
        "                smallest_distance = eucledian_dist\n",
        "                nearest_neighbor_id = i\n",
        "            elif smallest_distance > eucledian_dist:\n",
        "                smallest_distance = eucledian_dist\n",
        "                nearest_neighbor_id = i\n",
        "                \n",
        "        neighbors.append(data[nearest_neighbor_id])\n",
        "        neighbor_labels.append(labels[nearest_neighbor_id])\n",
        "        \n",
        "        data.remove(data[nearest_neighbor_id])\n",
        "        labels.remove(labels[nearest_neighbor_id])\n",
        "    return neighbor_labels\n",
        "\n",
        "def k_nearest_neighbor(point, data, labels, k=3):\n",
        "    # If two different labels are most found, continue to search for 1 more k\n",
        "    while True:\n",
        "        neighbor_labels = find_neighbors(point, data, labels, k=k)\n",
        "        label = most_found(neighbor_labels)\n",
        "        if label != None:\n",
        "            break\n",
        "        k += 1\n",
        "        if k >= len(data):\n",
        "            break\n",
        "            \n",
        "    return label"
      ],
      "metadata": {
        "id": "4aKesOi7CllP"
      },
      "execution_count": 20,
      "outputs": []
    },
    {
      "cell_type": "markdown",
      "source": [
        "Test Data"
      ],
      "metadata": {
        "id": "hDZPw8N1S1CM"
      }
    },
    {
      "cell_type": "code",
      "source": [
        "\n",
        "point = [79,68,70,74]\n",
        "k_nearest_neighbor(point, x, y, k=5)\n"
      ],
      "metadata": {
        "colab": {
          "base_uri": "https://localhost:8080/",
          "height": 36
        },
        "id": "v02GxoqO-pOw",
        "outputId": "6607ec83-7d22-494b-9f41-12d641a7dc17"
      },
      "execution_count": 21,
      "outputs": [
        {
          "output_type": "execute_result",
          "data": {
            "text/plain": [
              "'B'"
            ],
            "application/vnd.google.colaboratory.intrinsic+json": {
              "type": "string"
            }
          },
          "metadata": {},
          "execution_count": 21
        }
      ]
    },
    {
      "cell_type": "markdown",
      "source": [
        "# KNN with Sklearn"
      ],
      "metadata": {
        "id": "EO8sJEdCvWoe"
      }
    },
    {
      "cell_type": "code",
      "source": [
        "import pandas as pd\n",
        "df = pd.read_csv('/content/ma.csv')\n",
        "df.head()"
      ],
      "metadata": {
        "colab": {
          "base_uri": "https://localhost:8080/",
          "height": 206
        },
        "id": "8Z0iCtF_pGIC",
        "outputId": "73dfcf4d-4368-40b8-e324-adc727541db1"
      },
      "execution_count": 22,
      "outputs": [
        {
          "output_type": "execute_result",
          "data": {
            "text/plain": [
              "   S.no  Da  cat1  cat2  fat grade\n",
              "0     1  77    69    77   74     B\n",
              "1     2  92    67    68   89     B\n",
              "2     3  82    74    75   80     A\n",
              "3     4  94    68    73   69     B\n",
              "4     5  72    85    59   60     B"
            ],
            "text/html": [
              "\n",
              "  <div id=\"df-adda7eaf-a4ac-44b0-bccc-16c9c2350bf3\">\n",
              "    <div class=\"colab-df-container\">\n",
              "      <div>\n",
              "<style scoped>\n",
              "    .dataframe tbody tr th:only-of-type {\n",
              "        vertical-align: middle;\n",
              "    }\n",
              "\n",
              "    .dataframe tbody tr th {\n",
              "        vertical-align: top;\n",
              "    }\n",
              "\n",
              "    .dataframe thead th {\n",
              "        text-align: right;\n",
              "    }\n",
              "</style>\n",
              "<table border=\"1\" class=\"dataframe\">\n",
              "  <thead>\n",
              "    <tr style=\"text-align: right;\">\n",
              "      <th></th>\n",
              "      <th>S.no</th>\n",
              "      <th>Da</th>\n",
              "      <th>cat1</th>\n",
              "      <th>cat2</th>\n",
              "      <th>fat</th>\n",
              "      <th>grade</th>\n",
              "    </tr>\n",
              "  </thead>\n",
              "  <tbody>\n",
              "    <tr>\n",
              "      <th>0</th>\n",
              "      <td>1</td>\n",
              "      <td>77</td>\n",
              "      <td>69</td>\n",
              "      <td>77</td>\n",
              "      <td>74</td>\n",
              "      <td>B</td>\n",
              "    </tr>\n",
              "    <tr>\n",
              "      <th>1</th>\n",
              "      <td>2</td>\n",
              "      <td>92</td>\n",
              "      <td>67</td>\n",
              "      <td>68</td>\n",
              "      <td>89</td>\n",
              "      <td>B</td>\n",
              "    </tr>\n",
              "    <tr>\n",
              "      <th>2</th>\n",
              "      <td>3</td>\n",
              "      <td>82</td>\n",
              "      <td>74</td>\n",
              "      <td>75</td>\n",
              "      <td>80</td>\n",
              "      <td>A</td>\n",
              "    </tr>\n",
              "    <tr>\n",
              "      <th>3</th>\n",
              "      <td>4</td>\n",
              "      <td>94</td>\n",
              "      <td>68</td>\n",
              "      <td>73</td>\n",
              "      <td>69</td>\n",
              "      <td>B</td>\n",
              "    </tr>\n",
              "    <tr>\n",
              "      <th>4</th>\n",
              "      <td>5</td>\n",
              "      <td>72</td>\n",
              "      <td>85</td>\n",
              "      <td>59</td>\n",
              "      <td>60</td>\n",
              "      <td>B</td>\n",
              "    </tr>\n",
              "  </tbody>\n",
              "</table>\n",
              "</div>\n",
              "      <button class=\"colab-df-convert\" onclick=\"convertToInteractive('df-adda7eaf-a4ac-44b0-bccc-16c9c2350bf3')\"\n",
              "              title=\"Convert this dataframe to an interactive table.\"\n",
              "              style=\"display:none;\">\n",
              "        \n",
              "  <svg xmlns=\"http://www.w3.org/2000/svg\" height=\"24px\"viewBox=\"0 0 24 24\"\n",
              "       width=\"24px\">\n",
              "    <path d=\"M0 0h24v24H0V0z\" fill=\"none\"/>\n",
              "    <path d=\"M18.56 5.44l.94 2.06.94-2.06 2.06-.94-2.06-.94-.94-2.06-.94 2.06-2.06.94zm-11 1L8.5 8.5l.94-2.06 2.06-.94-2.06-.94L8.5 2.5l-.94 2.06-2.06.94zm10 10l.94 2.06.94-2.06 2.06-.94-2.06-.94-.94-2.06-.94 2.06-2.06.94z\"/><path d=\"M17.41 7.96l-1.37-1.37c-.4-.4-.92-.59-1.43-.59-.52 0-1.04.2-1.43.59L10.3 9.45l-7.72 7.72c-.78.78-.78 2.05 0 2.83L4 21.41c.39.39.9.59 1.41.59.51 0 1.02-.2 1.41-.59l7.78-7.78 2.81-2.81c.8-.78.8-2.07 0-2.86zM5.41 20L4 18.59l7.72-7.72 1.47 1.35L5.41 20z\"/>\n",
              "  </svg>\n",
              "      </button>\n",
              "      \n",
              "  <style>\n",
              "    .colab-df-container {\n",
              "      display:flex;\n",
              "      flex-wrap:wrap;\n",
              "      gap: 12px;\n",
              "    }\n",
              "\n",
              "    .colab-df-convert {\n",
              "      background-color: #E8F0FE;\n",
              "      border: none;\n",
              "      border-radius: 50%;\n",
              "      cursor: pointer;\n",
              "      display: none;\n",
              "      fill: #1967D2;\n",
              "      height: 32px;\n",
              "      padding: 0 0 0 0;\n",
              "      width: 32px;\n",
              "    }\n",
              "\n",
              "    .colab-df-convert:hover {\n",
              "      background-color: #E2EBFA;\n",
              "      box-shadow: 0px 1px 2px rgba(60, 64, 67, 0.3), 0px 1px 3px 1px rgba(60, 64, 67, 0.15);\n",
              "      fill: #174EA6;\n",
              "    }\n",
              "\n",
              "    [theme=dark] .colab-df-convert {\n",
              "      background-color: #3B4455;\n",
              "      fill: #D2E3FC;\n",
              "    }\n",
              "\n",
              "    [theme=dark] .colab-df-convert:hover {\n",
              "      background-color: #434B5C;\n",
              "      box-shadow: 0px 1px 3px 1px rgba(0, 0, 0, 0.15);\n",
              "      filter: drop-shadow(0px 1px 2px rgba(0, 0, 0, 0.3));\n",
              "      fill: #FFFFFF;\n",
              "    }\n",
              "  </style>\n",
              "\n",
              "      <script>\n",
              "        const buttonEl =\n",
              "          document.querySelector('#df-adda7eaf-a4ac-44b0-bccc-16c9c2350bf3 button.colab-df-convert');\n",
              "        buttonEl.style.display =\n",
              "          google.colab.kernel.accessAllowed ? 'block' : 'none';\n",
              "\n",
              "        async function convertToInteractive(key) {\n",
              "          const element = document.querySelector('#df-adda7eaf-a4ac-44b0-bccc-16c9c2350bf3');\n",
              "          const dataTable =\n",
              "            await google.colab.kernel.invokeFunction('convertToInteractive',\n",
              "                                                     [key], {});\n",
              "          if (!dataTable) return;\n",
              "\n",
              "          const docLinkHtml = 'Like what you see? Visit the ' +\n",
              "            '<a target=\"_blank\" href=https://colab.research.google.com/notebooks/data_table.ipynb>data table notebook</a>'\n",
              "            + ' to learn more about interactive tables.';\n",
              "          element.innerHTML = '';\n",
              "          dataTable['output_type'] = 'display_data';\n",
              "          await google.colab.output.renderOutput(dataTable, element);\n",
              "          const docLink = document.createElement('div');\n",
              "          docLink.innerHTML = docLinkHtml;\n",
              "          element.appendChild(docLink);\n",
              "        }\n",
              "      </script>\n",
              "    </div>\n",
              "  </div>\n",
              "  "
            ]
          },
          "metadata": {},
          "execution_count": 22
        }
      ]
    },
    {
      "cell_type": "code",
      "source": [
        "X = df[['Da', 'cat1', 'cat2', 'fat']]\n",
        "y = df[['grade']]"
      ],
      "metadata": {
        "id": "KM-h1JF4o-tJ"
      },
      "execution_count": 23,
      "outputs": []
    },
    {
      "cell_type": "code",
      "source": [
        "X_train, X_test, y_train, y_test = train_test_split(\n",
        "             X, y, test_size = 0.3, random_state = 0)"
      ],
      "metadata": {
        "id": "7bDtLaTmrWTy"
      },
      "execution_count": 24,
      "outputs": []
    },
    {
      "cell_type": "code",
      "source": [
        "knn = KNeighborsClassifier(n_neighbors = 3)\n",
        "# Fit the classifier to the data\n",
        "knn.fit(X_train,y_train)"
      ],
      "metadata": {
        "colab": {
          "base_uri": "https://localhost:8080/"
        },
        "id": "-Q26GqBpsOAA",
        "outputId": "c03fdb08-f59b-4132-b6ae-286cf1c681fb"
      },
      "execution_count": 28,
      "outputs": [
        {
          "output_type": "stream",
          "name": "stderr",
          "text": [
            "/usr/local/lib/python3.7/dist-packages/sklearn/neighbors/_classification.py:198: DataConversionWarning: A column-vector y was passed when a 1d array was expected. Please change the shape of y to (n_samples,), for example using ravel().\n",
            "  return self._fit(X, y)\n"
          ]
        },
        {
          "output_type": "execute_result",
          "data": {
            "text/plain": [
              "KNeighborsClassifier(n_neighbors=3)"
            ]
          },
          "metadata": {},
          "execution_count": 28
        }
      ]
    },
    {
      "cell_type": "code",
      "source": [
        "knn.predict(X_test)"
      ],
      "metadata": {
        "colab": {
          "base_uri": "https://localhost:8080/"
        },
        "id": "wz_F9JMSs_2h",
        "outputId": "01462e71-e37b-4345-fa9b-cc1f832fc516"
      },
      "execution_count": 36,
      "outputs": [
        {
          "output_type": "execute_result",
          "data": {
            "text/plain": [
              "array(['B', 'B', 'B'], dtype=object)"
            ]
          },
          "metadata": {},
          "execution_count": 36
        }
      ]
    },
    {
      "cell_type": "code",
      "source": [
        "knn.score(X_test, y_test)"
      ],
      "metadata": {
        "colab": {
          "base_uri": "https://localhost:8080/"
        },
        "id": "xYn_e6citMpL",
        "outputId": "3560e382-3268-48ab-827f-afe9641786cb"
      },
      "execution_count": 31,
      "outputs": [
        {
          "output_type": "execute_result",
          "data": {
            "text/plain": [
              "0.6666666666666666"
            ]
          },
          "metadata": {},
          "execution_count": 31
        }
      ]
    }
  ]
}